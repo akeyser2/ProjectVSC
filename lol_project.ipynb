{
 "cells": [
  {
   "cell_type": "markdown",
   "metadata": {},
   "source": [
    "## League of Legends Performance Project\n",
    "\n",
    "Hello, and welcome to my project! For m6y project I am going to be analazing two sets of data from my League of Legends (LoL) data from the past couple of months. The two data sets that I have collected are my ranked games from this season, which spans over the past 6ish months, as well as my past 103 other games. Those 104 games include normal games, ARAM games, and anything else (mostly those two I believe). There is a pretty big chance that whoever is reading this has no knowledge of LoL, so before we get started there are a couple key words that you should know:\n",
    "* Gamemodes\n",
    "    * There are multiple gamemodes in LoL, but the ones I've recorded are Ranked, Norms, and ARAM\n",
    "    * Norms is the baseline of the game, it is also known as Draft sometimes.\n",
    "    * Ranked is the competative version of Norms, the exact same game and playstyle, but taken more seriously\n",
    "    * ARAM is usually known as the \"for fun\" mode, you don't get to choose your champion, and there are no rolls like the other gamemodes\n",
    "* Rolls\n",
    "    * Norms and Ranked have different rolls you can play which is an important attribute in my data. There are 5 rolls; Top, Jungle, Middle, ADC, and Support\n",
    "* Other terms\n",
    "    * KDA: This is your Kill-Death- assist ratio. Usually, the higher it the better you did. It is calculated with this equation: $\\frac{K+A}{D}$ \n",
    "    * CS: This is kind of complicated to explain, but it's kind of a way of tracking how well you were managing multiple things.\n",
    "    * KP: Kill Participation, this is how many of your Kills or Assists contributed to the team. $\\frac{K+A}{Team Kills}$\n",
    "    * Average Rank: This is a way of determining the average skill of the lobby. The rank goes from Bronze->Silver->Gold->Plat->etc. As well as from 4 being the lowest to 1 being the highest of that specific rank\n",
    "    \n",
    "With all of that, we can start looking at the data!"
   ]
  },
  {
   "cell_type": "markdown",
   "metadata": {},
   "source": [
    "### The Data\n",
    "As I mentioned, I have two data sets that I'll be analyzing. One comprising of all my ranked games this year, and another of my past 103 games. I got this data from the website op.gg, but had to input the data manually into excel since there was no way of getting it as a csv or json. I think that there will be some interesting information that we can find from these datasets as I usually goof off a lot in norms with my friends, but take ranked more seriously and play the champs that I'm best at.  \n",
    "Let's go through a couple things I want to look at with this data:\n",
    "* How well I play in ranked vs. norms\n",
    "* What champs I play the best and worst with (I can also comparte this to how much I've played the champ)\n",
    "* How well I play by myself vs. with my friends (this can be determined by the avg rank because one of the friends I play with is a lot higher ranked than the rest of us)\n",
    "* How my performance differs between which roll I play (this might be skewed because I play Jg and Mid the most but we will see)\n",
    "* And finally I would love to try and predict how well I would play on a given champion in a given roll, and then play a game and see how accurate it was.\n",
    "    * There is no way that it will be accurate since there are so many variables that go into a single game, but I think it would be really interesting to try\n",
    "    "
   ]
  },
  {
   "cell_type": "code",
   "execution_count": 303,
   "metadata": {},
   "outputs": [],
   "source": [
    "import numpy as np\n",
    "import pandas as pd\n",
    "import matplotlib.pyplot as plt\n",
    "import math\n",
    "\n",
    "ranked_df = pd.read_csv(\"opgg_ranked.csv\", header = 0, index_col=\"ID\")\n",
    "games_df = pd.read_csv(\"opgg_lasthundred.csv\", header = 0, index_col=\"ID\")"
   ]
  },
  {
   "attachments": {},
   "cell_type": "markdown",
   "metadata": {},
   "source": [
    "### Cleaning\n",
    "Since I inputed all of this data manually, there is very little cleaning that we will have to do. However, I made the ranked dataset a month or so before my other data, so there are a couple inconsistancies we have to fix:\n",
    "1. I recorded one of the champions in the ranked dataset as \"Mundo\", but \"Dr. Mundo\" in the other set, so I'll change all of them to Dr. for consistancy.\n",
    "2. In the outcome attribute, I'll change \"Loss\" in the ranked set to \"Defeat\", as it is what I used in the new one because that is the official name.\n",
    "3. In the ranked dataset, I labeled \"Roll\" as N/A for ARAM games, but I will replace those with empty values.  \n",
    "    * (np.NaN doesn't work with string values so ask about this)\n",
    "4. Lastly, I'm going to seperate the ARAM and Remake games that I played from the dataframe, as they will mess up the data.\n",
    "\n",
    "Once those are done, the data should be all set for usage!"
   ]
  },
  {
   "cell_type": "code",
   "execution_count": 304,
   "metadata": {},
   "outputs": [],
   "source": [
    "#turns mundo into Dr.\n",
    "for value in ranked_df[\"Champion\"]:\n",
    "    if \"mundo\" in value.lower():\n",
    "        ranked_df.replace(value, \"Dr. Mundo\", inplace=True)\n",
    "#fixes result name\n",
    "for value in ranked_df[\"Result\"]:\n",
    "    if \"loss\" in value.lower():\n",
    "        ranked_df.replace(value, \"Defeat\", inplace=True)\n",
    "#removes N/A\n",
    "games_df.replace(\"N/A\", np.NaN, inplace=True)\n",
    "#makes an aram df in case i want to use it later\n",
    "aram_df = games_df.loc[games_df[\"Gamemode\"] == \"ARAM\"]\n",
    "#although only 2 remakes, it could mess up the data\n",
    "remove_remakes = games_df.loc[games_df[\"Result\"] == \"Remake\"]\n",
    "#removes both from games_df\n",
    "games_df = games_df.drop(aram_df.index)\n",
    "games_df = games_df.drop(remove_remakes.index)\n",
    "\n",
    "\n"
   ]
  },
  {
   "attachments": {},
   "cell_type": "markdown",
   "metadata": {},
   "source": [
    "While doing this project, I found a great dataset to use that shows the average stats of every champ, and even better it is set to be specifically in my skill range. I got this data from https://www.metasrc.com/5v5/na/12.20/stats?ranks=silver and used a html converter to turn it into a .csv.  \n",
    "\n",
    "1. One problem arose though, the champion attribute has an issue where the name is coppied on itself, so instead of \"Akali\", it shows \"AkaliAkali\". And since this was the attribute I planned on merging my tables on, I'm going to have to fix that. Luckily, I have an idea.\n",
    "    * Have a for loop that goes through all the champs\n",
    "    * Get the length of the string that is their name\n",
    "    * Set the length of the string to half that size.  \n",
    "\n",
    "        Hopefully this works, and gives me a good dataset to work with.  \n",
    "\n",
    "\n",
    "2. Another problem is some champions show up twice, this is because some champs are played in multiple rolls. Since I do not really care about their lower played rolls, I will just be taking the highest play percent and drop the extra ones.  \n",
    "3. One more thing I'm going to do is remove a couple columns that I wont be using.  \n",
    "\n",
    "For the last part of cleaning, I am going to merge this dataframe with both my ranked df and my norms df."
   ]
  },
  {
   "cell_type": "code",
   "execution_count": 305,
   "metadata": {},
   "outputs": [
    {
     "name": "stdout",
     "output_type": "stream",
     "text": [
      "   Gamemode   Result  Length (min)    Roll     Champion    KDA  KP (%)   CS  \\\n",
      "0    Ranked  Victory     33.483333  Jungle       Lillia   5.00      48  191   \n",
      "1    Ranked   Defeat     16.183333  Jungle       Lillia   0.33      14   74   \n",
      "2    Ranked  Victory     25.883333  Jungle       Lillia  24.00      57  174   \n",
      "3    Ranked   Defeat     24.000000  Jungle       Lillia   1.33      42   97   \n",
      "4    Ranked   Defeat     38.116667  Jungle       Lillia   4.00      63  244   \n",
      "5    Ranked  Victory     31.900000  Jungle       Lillia   5.25      57  187   \n",
      "6    Ranked   Defeat     20.816667  Jungle       Lillia   0.80      40  100   \n",
      "7    Ranked   Defeat     44.300000  Jungle       Lillia   1.78      38  209   \n",
      "8    Ranked  Victory     22.950000  Jungle  Mordekaiser   4.33      33  125   \n",
      "9    Ranked   Defeat     16.133333  Jungle  Mordekaiser   1.00      80   74   \n",
      "10   Ranked  Victory     22.133333  Jungle  Mordekaiser  16.00      53  123   \n",
      "11   Ranked  Victory     29.450000  Jungle  Mordekaiser   3.75      58  161   \n",
      "12   Ranked   Defeat     28.933333  Jungle  Mordekaiser   2.50      75  138   \n",
      "13   Ranked  Victory     23.583333  Jungle  Mordekaiser   5.67      45  126   \n",
      "14   Ranked  Victory     30.100000  Jungle  Mordekaiser   3.00      41  125   \n",
      "15   Ranked  Victory     39.450000  Jungle  Mordekaiser   3.60      38  195   \n",
      "16   Ranked   Defeat     34.983333  Jungle    Dr. Mundo   2.17      54  178   \n",
      "17   Ranked  Victory     27.366667  Jungle    Dr. Mundo   2.67      20  155   \n",
      "18   Ranked   Defeat     38.150000  Jungle           Vi   2.86      49  217   \n",
      "\n",
      "   Average Rank        Tier   Win %  Avg KDA of Champ  \n",
      "0      Bronze 1    Good / A  50.00%              2.63  \n",
      "1      Bronze 1    Good / A  50.00%              2.63  \n",
      "2      Bronze 2    Good / A  50.00%              2.63  \n",
      "3      Silver 3    Good / A  50.00%              2.63  \n",
      "4      Bronze 1    Good / A  50.00%              2.63  \n",
      "5      Silver 3    Good / A  50.00%              2.63  \n",
      "6      Silver 4    Good / A  50.00%              2.63  \n",
      "7      Silver 4    Good / A  50.00%              2.63  \n",
      "8      Bronze 1  Strong / S  51.53%              1.95  \n",
      "9      Silver 3  Strong / S  51.53%              1.95  \n",
      "10     Silver 4  Strong / S  51.53%              1.95  \n",
      "11     Silver 4  Strong / S  51.53%              1.95  \n",
      "12     Silver 2  Strong / S  51.53%              1.95  \n",
      "13     Bronze 1  Strong / S  51.53%              1.95  \n",
      "14     Silver 4  Strong / S  51.53%              1.95  \n",
      "15     Silver 4  Strong / S  51.53%              1.95  \n",
      "16     Silver 4    Good / A  51.32%              2.17  \n",
      "17     Silver 3    Good / A  51.32%              2.17  \n",
      "18     Bronze 1    Good / A  51.23%              2.41  \n"
     ]
    }
   ],
   "source": [
    "stats_df = pd.read_csv(\"champ_stats.csv\", header = 0)\n",
    " \n",
    "#Fixes the names\n",
    "for name in stats_df[\"Champion\"]:\n",
    "    length = len(name)\n",
    "    split_index = length // 2\n",
    "    #sets val equal to first half\n",
    "    stats_df.replace(name, name[:split_index], inplace=True)\n",
    " \n",
    "#removes the \"%\" from the values and turns them into ints\n",
    "for stat in stats_df[\"Role %\"]:\n",
    "    #sets val equal to first half\n",
    "    stats_df.replace(stat, float(stat[:5]), inplace=True)\n",
    " \n",
    "#removes all the champs with a roll % less than 50\n",
    "to_drop = stats_df.loc[stats_df[\"Role %\"] < 50]\n",
    "stats_df = stats_df.drop(to_drop.index)\n",
    " \n",
    "#drops unnecessary columns\n",
    "colums_td = [\"Score\", \"Trend\", \"Pick %\", \"Ban %\"]\n",
    "stats_df = stats_df.drop(columns=colums_td)\n",
    "#for some reason these wouldnt drop when I put them in columns_td\n",
    "stats_df = stats_df.drop(columns=\"Role\")\n",
    "stats_df = stats_df.drop(columns=\"Role %\")\n",
    " \n",
    "stats_df.rename(columns={'KDA': 'Avg KDA of Champ'}, inplace=True)\n",
    "\n",
    "\n",
    "# Merging\n",
    "ranked_df = ranked_df.merge(stats_df, on=\"Champion\")\n",
    "print(ranked_df)\n",
    "games_df = games_df.merge(stats_df, on=\"Champion\")\n",
    "\n",
    "\n"
   ]
  },
  {
   "cell_type": "markdown",
   "metadata": {},
   "source": [
    "### Graphs\n",
    "* I'm going to make 2 pi charts for what percent I play what roll, as well as what Champion. I'm going to make the same for ranked as well."
   ]
  },
  {
   "cell_type": "code",
   "execution_count": 306,
   "metadata": {},
   "outputs": [],
   "source": [
    "# Still not working, come back as last thing\n",
    "\n",
    "\n",
    "\n",
    "# series = champs_graph.apply()\n",
    "\n",
    "#print(games_df)\n",
    "# for key in champs_graph:\n",
    "#     #sets val equal to first half\n",
    "#     if \n",
    "#     champs_graph.replace(key, \"Other\", inplace=True)\n",
    " \n",
    "# #removes all the champs with a roll % less than 50\n",
    "# to_drop = stats_df.loc[stats_df[\"Role %\"] < 50]\n",
    "# stats_df = stats_df.drop(to_drop.index)\n",
    "\n",
    "# reset figure, make it square\n",
    "#plt.figure(figsize=(8,8))\n",
    "# create the bar chart (with pcts)\n",
    "#plt.pie(grouped_by_champ.size(), labels=grouped_by_champ.size(), autopct=\"%1.1f%%\")\n",
    "#plt.show()"
   ]
  },
  {
   "cell_type": "markdown",
   "metadata": {},
   "source": [
    "After seeing this atrocity I have decided not to make a graph based on the champs I've played. I can still do Rolls though since there are only 5.  \n",
    "\n",
    "I can probably still do the champion graph for ranked though, because I only played 4 champions in ranked I believe. Let's try that out first"
   ]
  },
  {
   "cell_type": "code",
   "execution_count": 307,
   "metadata": {},
   "outputs": [
    {
     "name": "stdout",
     "output_type": "stream",
     "text": [
      "Champion\n",
      "Dr. Mundo      2\n",
      "Lillia         8\n",
      "Mordekaiser    8\n",
      "Vi             1\n",
      "dtype: int64\n"
     ]
    },
    {
     "data": {
      "image/png": "[encoded data removed]",
      "text/plain": [
       "<Figure size 576x576 with 1 Axes>"
      ]
     },
     "metadata": {},
     "output_type": "display_data"
    }
   ],
   "source": [
    "grouped_by_champ = ranked_df.groupby(\"Champion\")\n",
    "\n",
    "print(grouped_by_champ.size())\n",
    "\n",
    "plt.figure(figsize=(8,8))\n",
    "\n",
    "xs = [\"Dr. Mundo\", \"Lillia\", \"Mordekaiser\", \"Vi\"]\n",
    "\n",
    "plt.pie(grouped_by_champ.size(), labels=xs, autopct=\"%1.1f%%\")\n",
    "plt.show()"
   ]
  },
  {
   "cell_type": "markdown",
   "metadata": {},
   "source": [
    "Lillia and Mord as my top champs. Not suprised since this data set is so small, I know which ones I played most off the top of my head.\n",
    "\n",
    "I could also make a bar graph with my average KDA with these champs for ranked since there arn't too many to work with. I am guessing that Mord and Lillia will still be the most since I am more experienced with them."
   ]
  },
  {
   "cell_type": "code",
   "execution_count": 308,
   "metadata": {},
   "outputs": [
    {
     "data": {
      "image/png": "[encoded data removed]",
      "text/plain": [
       "<Figure size 432x288 with 1 Axes>"
      ]
     },
     "metadata": {
      "needs_background": "light"
     },
     "output_type": "display_data"
    }
   ],
   "source": [
    "mundo_df = grouped_by_champ.get_group(\"Dr. Mundo\")\n",
    "lil_df = grouped_by_champ.get_group(\"Lillia\")\n",
    "mord_df = grouped_by_champ.get_group(\"Mordekaiser\")\n",
    "vi_df = grouped_by_champ.get_group(\"Vi\")\n",
    "\n",
    "# reset figure\n",
    "plt.figure()\n",
    "\n",
    "ys = [mundo_df[\"KDA\"].mean(), lil_df[\"KDA\"].mean(), mord_df[\"KDA\"].mean(), vi_df[\"KDA\"].mean()]\n",
    "\n",
    "xrng = np.arange(len(xs))\n",
    "yrng = np.arange(0, max(ys)+1, 1)\n",
    "\n",
    "plt.bar(xrng, ys, 0.45, align=\"center\") \n",
    "# note: default alignment is center\n",
    "\n",
    "plt.xlabel(\"Champions\")\n",
    "plt.ylabel(\"Average KDA\")\n",
    "plt.title(\"Avg KDA per Champion in Ranked\")\n",
    "\n",
    "plt.xticks(xrng, xs)\n",
    "plt.yticks(yrng)\n",
    "# turn on the background grid\n",
    "plt.grid(True)\n",
    "plt.show()"
   ]
  },
  {
   "cell_type": "markdown",
   "metadata": {},
   "source": [
    "It seems that I was correct in my guess! I am going to move onto rolls now, but I'm not going to do one for ranked since it would be 100% jungle and that would not make for very interesting data.  \n",
    "\n",
    "I'm also going to make a Bar Graph along with the Pi Chart again since we have a lot more data with my normal game set, and I honestly have no idea what roll will come out on top.\n"
   ]
  },
  {
   "cell_type": "code",
   "execution_count": 309,
   "metadata": {},
   "outputs": [
    {
     "name": "stdout",
     "output_type": "stream",
     "text": [
      "Roll\n",
      "ADC         7\n",
      "Jungle     28\n",
      "Middle     30\n",
      "Support     5\n",
      "Top        18\n",
      "dtype: int64\n"
     ]
    },
    {
     "data": {
      "image/png": "[encoded data removed]",
      "text/plain": [
       "<Figure size 576x576 with 1 Axes>"
      ]
     },
     "metadata": {},
     "output_type": "display_data"
    },
    {
     "data": {
      "image/png": "[encoded data removed]",
      "text/plain": [
       "<Figure size 432x288 with 1 Axes>"
      ]
     },
     "metadata": {
      "needs_background": "light"
     },
     "output_type": "display_data"
    }
   ],
   "source": [
    "\n",
    "#Pi Chart\n",
    "grouped_by_roll = games_df.groupby(\"Roll\")\n",
    "\n",
    "print(grouped_by_roll.size())\n",
    "\n",
    "plt.figure(figsize=(8,8))\n",
    "\n",
    "xs = [\"ADC\", \"Jungle\", \"Middle\", \"Support\", \"Top\"]\n",
    "\n",
    "plt.pie(grouped_by_roll.size(), labels=xs, autopct=\"%1.1f%%\")\n",
    "plt.show()\n",
    "\n",
    "\n",
    "#Bar Chart\n",
    "adc_df = grouped_by_roll.get_group(\"ADC\")\n",
    "jng_df = grouped_by_roll.get_group(\"Jungle\")\n",
    "mid_df = grouped_by_roll.get_group(\"Middle\")\n",
    "sup_df = grouped_by_roll.get_group(\"Support\")\n",
    "top_df = grouped_by_roll.get_group(\"Top\")\n",
    "\n",
    "# reset figure\n",
    "plt.figure()\n",
    "\n",
    "ys = [adc_df[\"KDA\"].mean(), jng_df[\"KDA\"].mean(), mid_df[\"KDA\"].mean(), sup_df[\"KDA\"].mean(), top_df[\"KDA\"].mean()]\n",
    "\n",
    "\n",
    "xrng = np.arange(len(xs))\n",
    "yrng = np.arange(0, max(ys)+1, 1)\n",
    "\n",
    "plt.bar(xrng, ys, 0.45, align=\"center\") \n",
    "# note: default alignment is center\n",
    "\n",
    "plt.xlabel(\"Rolls\")\n",
    "plt.ylabel(\"Average KDA\")\n",
    "plt.title(\"Avg KDA per Roll in Norms\")\n",
    "\n",
    "plt.xticks(xrng, xs)\n",
    "plt.yticks(yrng)\n",
    "# turn on the background grid\n",
    "plt.grid(True)\n",
    "plt.show()"
   ]
  },
  {
   "cell_type": "markdown",
   "metadata": {},
   "source": [
    "This data was really surprising to me. All of the rolls have an extremely similar KDA, although it is kind of sad to see that my most played rolls have the lowest average...  \n",
    "\n",
    "If I were to have gotten this data from two months ago, I think that the data would have been skewed especially towards jungle, but after playing Akali a lot (who is played top and mid), it increased those almost up to my jungle play rate.  \n",
    "\n",
    "Later on I would like to do this sorted by some ranks as well. Possibly Gold-Plat(playing with friends) vs. Bronze-Silver(playing alone) to see which I play better.  \n"
   ]
  },
  {
   "cell_type": "code",
   "execution_count": 310,
   "metadata": {},
   "outputs": [
    {
     "data": {
      "image/png": "[encoded data removed]",
      "text/plain": [
       "<Figure size 432x288 with 1 Axes>"
      ]
     },
     "metadata": {
      "needs_background": "light"
     },
     "output_type": "display_data"
    }
   ],
   "source": [
    "plt.figure()\n",
    "\n",
    "xs = [\"Norms\", \"Ranked\"]\n",
    "plt.boxplot([games_df[\"Length (min)\"], ranked_df[\"Length (min)\"]])\n",
    "\n",
    "\n",
    "plt.ylabel(\"Length (min)\")\n",
    "plt.title(\"Length of Norms vs. Ranked games\")\n",
    "\n",
    "plt.show()"
   ]
  },
  {
   "attachments": {},
   "cell_type": "markdown",
   "metadata": {},
   "source": [
    "# Hypothysis Testing\n",
    "For my hypothysis testing, I am going to test two different hypothysis that I have. First will be if I will beat a certain score with a specific champion, and the next will be based on if I play longer games with my friends or alone. I will explain them in more detain during their sections. These tests will give me a really interesting view on how likely these things are to happen and if I feel the same way.\n",
    "\n",
    "1. For the first test, I will be running a hypothysis test to see if when I play a game with Akali, if I will get a KDA above 3. I am doing this to see if the champ I played most in these last 100 games or so actually payed off and made me pretty good at the champion or not.\n",
    "\n",
    "Akali KDA Test\n",
    "* H0 - $M_{kda} <= 3$\n",
    "* H1 - $M_{kda} > 3$\n",
    "* Confidence $= 98$%\n",
    "* $df = N_{akali} - 1 = 30$\n",
    "* $t_{critical} = 2.457$"
   ]
  },
  {
   "cell_type": "code",
   "execution_count": 311,
   "metadata": {},
   "outputs": [
    {
     "name": "stdout",
     "output_type": "stream",
     "text": [
      "t-computed = 2.066722324107354\n",
      "\n",
      "Average KDA of Akalis:  2.310000000000001\n"
     ]
    }
   ],
   "source": [
    "grouped_by_champ = games_df.groupby(\"Champion\")\n",
    "akali_df = grouped_by_champ.get_group(\"Akali\")\n",
    "\n",
    "akali_kda = akali_df[\"KDA\"]\n",
    "\n",
    "t = (akali_kda.mean() - 3)/(akali_kda.std()/math.sqrt(len(akali_kda)))\n",
    "print(\"t-computed =\", t)\n",
    "\n",
    "print(\"\\nAverage KDA of Akalis: \", akali_df[\"Avg KDA of Champ\"].mean())"
   ]
  },
  {
   "attachments": {},
   "cell_type": "markdown",
   "metadata": {},
   "source": [
    "t-computed is less than t-critical, therefor reject H0. I also printed out another point of data, that the average KDA of Akali players in my rank is 2.3. So not only does my hypothysis test prove that if I play Akali, I will most likely get a KDA above 3, but also that it is significantly higher than the average person in my rank.\n",
    "\n",
    "2. Next is a bit weirder, but I think it should be interesting. The friends that I play with the most are better at the game than me, and because of that, the average rank of the games go up. Surprisingly, I play about the same weathr I'm playing with them or not, but that is not the point. What I want to test here is if I am playing with my friends, will the game be longer than if I were playing by myself. There is an option in the game to \"FF\" or forfeit, which ends the game early. However, whenever my friends and I play we rarely do that because we are having fun no matter how winnable the game it. \n",
    "* My thought is that if I'm playing with my friends, the length of the game will be longer than if I were playing alone\n",
    "\n",
    "\n",
    "Jungle CS Test\n",
    "* H0 - $M_{friends} <= M_{alone}$\n",
    "* H1 - $M_{frieds} > M_{alone}$\n",
    "* Confidence $= 98$%\n",
    "* $df = N_{friends} + N_{alone} - 2 = 86$\n",
    "* $t_{critical} = 2.390$"
   ]
  },
  {
   "cell_type": "code",
   "execution_count": 312,
   "metadata": {},
   "outputs": [
    {
     "name": "stdout",
     "output_type": "stream",
     "text": [
      "t-calculated = 2.302374480299633\n"
     ]
    }
   ],
   "source": [
    "from scipy import stats\n",
    "\n",
    "#this makes a new df to clean that turns the ranks into only 2 different values\n",
    "avgranks_df = games_df.copy()\n",
    "for rank in avgranks_df[\"Average Rank\"]:\n",
    "    if \"Gold\" in rank:\n",
    "        avgranks_df.replace(rank, \"Higher\", inplace=True)\n",
    "    if \"Plat\" in rank:\n",
    "        avgranks_df.replace(rank, \"Higher\", inplace=True)\n",
    "    if \"Bronze\" in rank:\n",
    "        avgranks_df.replace(rank, \"MyElo\", inplace=True)\n",
    "    if \"Silver\" in rank:\n",
    "        avgranks_df.replace(rank, \"MyElo\", inplace=True)\n",
    "\n",
    "#this will now split the df into 2, one with a higher avg rank, and one with about the same\n",
    "grouped_by_rank = avgranks_df.groupby(\"Average Rank\")\n",
    "friends_df = grouped_by_rank.get_group(\"Higher\")\n",
    "alone_df = grouped_by_rank.get_group(\"MyElo\")\n",
    "\n",
    "\n",
    "\n",
    "\n",
    "t, p = stats.ttest_ind(friends_df[\"Length (min)\"], alone_df[\"Length (min)\"])\n",
    "print(\"t-calculated =\", t)\n"
   ]
  },
  {
   "attachments": {},
   "cell_type": "markdown",
   "metadata": {},
   "source": [
    "t-computed is less than t-critical, therefor accept H0. Unfortunately my prediction for this one was not correct; however, it was extremely close. If I move the confidence interval down it would have passed. I still think that this was a really interesting test to do, and still got quite close to my hypothysis.\n",
    "\n"
   ]
  },
  {
   "attachments": {},
   "cell_type": "markdown",
   "metadata": {},
   "source": [
    "# Machine Learning\n",
    "First I need to label encode the data, as well as remove any of the columns that wont be necessary such as the Gamemode, since all of them are normal for this data."
   ]
  },
  {
   "cell_type": "code",
   "execution_count": 313,
   "metadata": {},
   "outputs": [
    {
     "name": "stdout",
     "output_type": "stream",
     "text": [
      "    Result  Length (min)  Roll  Champion    KDA  KP (%)   CS  Average Rank\n",
      "0        0     36.783333     1        12   3.17      40  173             2\n",
      "1        1     38.416667     1        12   9.33      56  281             3\n",
      "2        0     41.100000     1        12   6.25      63  231             8\n",
      "3        1     16.033333     1        12  12.00      57   95             7\n",
      "4        1     31.716667     1        12   8.33      56  190             3\n",
      "..     ...           ...   ...       ...    ...     ...  ...           ...\n",
      "83       1     34.833333     2        17  25.00      50  147             4\n",
      "84       1     17.216667     2         4   3.00      30   73             2\n",
      "85       1     26.200000     0         3  10.00      50  136             8\n",
      "86       0     33.183333     2        24   2.50      54  159             3\n",
      "87       0     23.100000     1        22   0.80      40  129            10\n",
      "\n",
      "[88 rows x 8 columns]\n"
     ]
    }
   ],
   "source": [
    "from sklearn.tree import DecisionTreeClassifier\n",
    "from sklearn.tree import plot_tree\n",
    "from sklearn.preprocessing import LabelEncoder\n",
    "import matplotlib.pyplot as plt\n",
    "\n",
    "to_drop = [\"Gamemode\", \"Tier\", \"Win %\", \"Avg KDA of Champ\"]\n",
    "games_ml = games_df.drop(columns=to_drop)\n",
    "\n",
    "#label encoding\n",
    "le = LabelEncoder()\n",
    "games_ml[\"Result\"] = le.fit_transform(games_ml[\"Result\"])\n",
    "\n",
    "le.fit(games_ml[\"Champion\"])\n",
    "games_ml[\"Champion\"] = le.transform(games_ml[\"Champion\"])\n",
    "\n",
    "le.fit(games_ml[\"Roll\"])\n",
    "games_ml[\"Roll\"] = le.transform(games_ml[\"Roll\"])\n",
    "\n",
    "le.fit(games_ml[\"Average Rank\"])\n",
    "games_ml[\"Average Rank\"] = le.transform(games_ml[\"Average Rank\"])\n",
    "\n",
    "print(games_ml)\n",
    "\n",
    "\n",
    "# split\n",
    "X = games_ml.drop('Result', axis=1)\n",
    "y = games_ml['Result']\n",
    "\n"
   ]
  },
  {
   "attachments": {},
   "cell_type": "markdown",
   "metadata": {},
   "source": [
    "Our data is now all orginized for machine learning! All of our important data is in numbers. We have also split the data into an X and y to work with in ML.\n",
    "\n",
    "### Decision Tree\n",
    "The first data model that I will work with is a decision tree, this will give us a basic understanding of what is important in our data."
   ]
  },
  {
   "cell_type": "code",
   "execution_count": 314,
   "metadata": {},
   "outputs": [
    {
     "data": {
      "image/png": "[encoded data removed]",
      "text/plain": [
       "<Figure size 1080x720 with 1 Axes>"
      ]
     },
     "metadata": {
      "needs_background": "light"
     },
     "output_type": "display_data"
    }
   ],
   "source": [
    "clf = DecisionTreeClassifier(max_depth=3)\n",
    "clf.fit(X, y)\n",
    "\n",
    "# tree?\n",
    "fig = plt.figure(figsize=(15,10))\n",
    "plot_tree(clf, feature_names=X.columns, class_names={1: \"Victory\", 0: \"Defeat\"}, filled=True)\n",
    "\n",
    "plt.show()"
   ]
  },
  {
   "attachments": {},
   "cell_type": "markdown",
   "metadata": {},
   "source": [
    "Still confused on how decision trees work exactly, try watching a video on it.\n",
    "\n",
    "Looking at the tree, we can see that my KDA as well as how long the games are play the biggest roll in weather or not I lose. Heres some basic information we can get.\n",
    "* If my KDA is lower than 1.94, There is a good chance that I will lose.\n",
    "* If my games last under 40 minutes, but above 30, it is probably a good sign.\n",
    "* Lastly, KP also plays a slight roll in the big picture.  \n",
    "\n",
    "The thing I am most surprised about is how there is no branch that has anything to do with the champion that I picked, but I feel like that will be more important in future models such as kNN.  \n",
    "\n",
    "### Corilation Matrix\n",
    "One more thing that I want to do before making some predictions is create a corilation matrix, this along with the decision tree we just made will give us a really good understanding of what is important in our data."
   ]
  },
  {
   "cell_type": "code",
   "execution_count": 315,
   "metadata": {},
   "outputs": [
    {
     "name": "stderr",
     "output_type": "stream",
     "text": [
      "C:\\Users\\akeys_abfybfs\\AppData\\Local\\Temp\\ipykernel_9484\\747190788.py:2: FutureWarning: this method is deprecated in favour of `Styler.format(precision=..)`\n",
      "  corr_df.style.background_gradient(cmap='bwr').set_precision(2)\n"
     ]
    },
    {
     "data": {
      "text/html": [
       "<style type=\"text/css\">\n",
       "#T_1907e_row0_col0, #T_1907e_row1_col1, #T_1907e_row2_col2, #T_1907e_row3_col3, #T_1907e_row4_col4, #T_1907e_row5_col5, #T_1907e_row6_col6, #T_1907e_row7_col7 {\n",
       "  background-color: #ff0000;\n",
       "  color: #f1f1f1;\n",
       "}\n",
       "#T_1907e_row0_col1, #T_1907e_row0_col6, #T_1907e_row1_col0, #T_1907e_row1_col4, #T_1907e_row2_col3, #T_1907e_row3_col2, #T_1907e_row5_col7, #T_1907e_row7_col5 {\n",
       "  background-color: #0000ff;\n",
       "  color: #f1f1f1;\n",
       "}\n",
       "#T_1907e_row0_col2, #T_1907e_row6_col2 {\n",
       "  background-color: #b4b4ff;\n",
       "  color: #000000;\n",
       "}\n",
       "#T_1907e_row0_col3, #T_1907e_row1_col5 {\n",
       "  background-color: #9292ff;\n",
       "  color: #f1f1f1;\n",
       "}\n",
       "#T_1907e_row0_col4 {\n",
       "  background-color: #ffcccc;\n",
       "  color: #000000;\n",
       "}\n",
       "#T_1907e_row0_col5, #T_1907e_row3_col6 {\n",
       "  background-color: #3e3eff;\n",
       "  color: #f1f1f1;\n",
       "}\n",
       "#T_1907e_row0_col7, #T_1907e_row3_col0 {\n",
       "  background-color: #5858ff;\n",
       "  color: #f1f1f1;\n",
       "}\n",
       "#T_1907e_row1_col2 {\n",
       "  background-color: #d2d2ff;\n",
       "  color: #000000;\n",
       "}\n",
       "#T_1907e_row1_col3 {\n",
       "  background-color: #b0b0ff;\n",
       "  color: #000000;\n",
       "}\n",
       "#T_1907e_row1_col6 {\n",
       "  background-color: #ff8484;\n",
       "  color: #f1f1f1;\n",
       "}\n",
       "#T_1907e_row1_col7 {\n",
       "  background-color: #3232ff;\n",
       "  color: #f1f1f1;\n",
       "}\n",
       "#T_1907e_row2_col0 {\n",
       "  background-color: #8080ff;\n",
       "  color: #f1f1f1;\n",
       "}\n",
       "#T_1907e_row2_col1 {\n",
       "  background-color: #a2a2ff;\n",
       "  color: #f1f1f1;\n",
       "}\n",
       "#T_1907e_row2_col4 {\n",
       "  background-color: #0e0eff;\n",
       "  color: #f1f1f1;\n",
       "}\n",
       "#T_1907e_row2_col5 {\n",
       "  background-color: #2424ff;\n",
       "  color: #f1f1f1;\n",
       "}\n",
       "#T_1907e_row2_col6 {\n",
       "  background-color: #5a5aff;\n",
       "  color: #f1f1f1;\n",
       "}\n",
       "#T_1907e_row2_col7 {\n",
       "  background-color: #6868ff;\n",
       "  color: #f1f1f1;\n",
       "}\n",
       "#T_1907e_row3_col1, #T_1907e_row5_col2 {\n",
       "  background-color: #7a7aff;\n",
       "  color: #f1f1f1;\n",
       "}\n",
       "#T_1907e_row3_col4 {\n",
       "  background-color: #2222ff;\n",
       "  color: #f1f1f1;\n",
       "}\n",
       "#T_1907e_row3_col5 {\n",
       "  background-color: #2626ff;\n",
       "  color: #f1f1f1;\n",
       "}\n",
       "#T_1907e_row3_col7, #T_1907e_row4_col6 {\n",
       "  background-color: #2c2cff;\n",
       "  color: #f1f1f1;\n",
       "}\n",
       "#T_1907e_row4_col0 {\n",
       "  background-color: #ffacac;\n",
       "  color: #000000;\n",
       "}\n",
       "#T_1907e_row4_col1 {\n",
       "  background-color: #4e4eff;\n",
       "  color: #f1f1f1;\n",
       "}\n",
       "#T_1907e_row4_col2 {\n",
       "  background-color: #9696ff;\n",
       "  color: #f1f1f1;\n",
       "}\n",
       "#T_1907e_row4_col3, #T_1907e_row4_col5, #T_1907e_row5_col1 {\n",
       "  background-color: #a4a4ff;\n",
       "  color: #000000;\n",
       "}\n",
       "#T_1907e_row4_col7 {\n",
       "  background-color: #8484ff;\n",
       "  color: #f1f1f1;\n",
       "}\n",
       "#T_1907e_row5_col0 {\n",
       "  background-color: #5454ff;\n",
       "  color: #f1f1f1;\n",
       "}\n",
       "#T_1907e_row5_col3 {\n",
       "  background-color: #7c7cff;\n",
       "  color: #f1f1f1;\n",
       "}\n",
       "#T_1907e_row5_col4 {\n",
       "  background-color: #7878ff;\n",
       "  color: #f1f1f1;\n",
       "}\n",
       "#T_1907e_row5_col6 {\n",
       "  background-color: #4242ff;\n",
       "  color: #f1f1f1;\n",
       "}\n",
       "#T_1907e_row6_col0 {\n",
       "  background-color: #2a2aff;\n",
       "  color: #f1f1f1;\n",
       "}\n",
       "#T_1907e_row6_col1 {\n",
       "  background-color: #ff7878;\n",
       "  color: #f1f1f1;\n",
       "}\n",
       "#T_1907e_row6_col3 {\n",
       "  background-color: #9c9cff;\n",
       "  color: #f1f1f1;\n",
       "}\n",
       "#T_1907e_row6_col4 {\n",
       "  background-color: #0404ff;\n",
       "  color: #f1f1f1;\n",
       "}\n",
       "#T_1907e_row6_col5 {\n",
       "  background-color: #5252ff;\n",
       "  color: #f1f1f1;\n",
       "}\n",
       "#T_1907e_row6_col7 {\n",
       "  background-color: #4c4cff;\n",
       "  color: #f1f1f1;\n",
       "}\n",
       "#T_1907e_row7_col0 {\n",
       "  background-color: #6e6eff;\n",
       "  color: #f1f1f1;\n",
       "}\n",
       "#T_1907e_row7_col1 {\n",
       "  background-color: #4848ff;\n",
       "  color: #f1f1f1;\n",
       "}\n",
       "#T_1907e_row7_col2 {\n",
       "  background-color: #b2b2ff;\n",
       "  color: #000000;\n",
       "}\n",
       "#T_1907e_row7_col3 {\n",
       "  background-color: #8282ff;\n",
       "  color: #f1f1f1;\n",
       "}\n",
       "#T_1907e_row7_col4 {\n",
       "  background-color: #5656ff;\n",
       "  color: #f1f1f1;\n",
       "}\n",
       "#T_1907e_row7_col6 {\n",
       "  background-color: #3a3aff;\n",
       "  color: #f1f1f1;\n",
       "}\n",
       "</style>\n",
       "<table id=\"T_1907e\">\n",
       "  <thead>\n",
       "    <tr>\n",
       "      <th class=\"blank level0\" >&nbsp;</th>\n",
       "      <th id=\"T_1907e_level0_col0\" class=\"col_heading level0 col0\" >Result</th>\n",
       "      <th id=\"T_1907e_level0_col1\" class=\"col_heading level0 col1\" >Length (min)</th>\n",
       "      <th id=\"T_1907e_level0_col2\" class=\"col_heading level0 col2\" >Roll</th>\n",
       "      <th id=\"T_1907e_level0_col3\" class=\"col_heading level0 col3\" >Champion</th>\n",
       "      <th id=\"T_1907e_level0_col4\" class=\"col_heading level0 col4\" >KDA</th>\n",
       "      <th id=\"T_1907e_level0_col5\" class=\"col_heading level0 col5\" >KP (%)</th>\n",
       "      <th id=\"T_1907e_level0_col6\" class=\"col_heading level0 col6\" >CS</th>\n",
       "      <th id=\"T_1907e_level0_col7\" class=\"col_heading level0 col7\" >Average Rank</th>\n",
       "    </tr>\n",
       "  </thead>\n",
       "  <tbody>\n",
       "    <tr>\n",
       "      <th id=\"T_1907e_level0_row0\" class=\"row_heading level0 row0\" >Result</th>\n",
       "      <td id=\"T_1907e_row0_col0\" class=\"data row0 col0\" >1.00</td>\n",
       "      <td id=\"T_1907e_row0_col1\" class=\"data row0 col1\" >-0.27</td>\n",
       "      <td id=\"T_1907e_row0_col2\" class=\"data row0 col2\" >0.05</td>\n",
       "      <td id=\"T_1907e_row0_col3\" class=\"data row0 col3\" >-0.05</td>\n",
       "      <td id=\"T_1907e_row0_col4\" class=\"data row0 col4\" >0.57</td>\n",
       "      <td id=\"T_1907e_row0_col5\" class=\"data row0 col5\" >-0.06</td>\n",
       "      <td id=\"T_1907e_row0_col6\" class=\"data row0 col6\" >-0.17</td>\n",
       "      <td id=\"T_1907e_row0_col7\" class=\"data row0 col7\" >0.00</td>\n",
       "    </tr>\n",
       "    <tr>\n",
       "      <th id=\"T_1907e_level0_row1\" class=\"row_heading level0 row1\" >Length (min)</th>\n",
       "      <td id=\"T_1907e_row1_col0\" class=\"data row1 col0\" >-0.27</td>\n",
       "      <td id=\"T_1907e_row1_col1\" class=\"data row1 col1\" >1.00</td>\n",
       "      <td id=\"T_1907e_row1_col2\" class=\"data row1 col2\" >0.13</td>\n",
       "      <td id=\"T_1907e_row1_col3\" class=\"data row1 col3\" >0.03</td>\n",
       "      <td id=\"T_1907e_row1_col4\" class=\"data row1 col4\" >-0.07</td>\n",
       "      <td id=\"T_1907e_row1_col5\" class=\"data row1 col5\" >0.14</td>\n",
       "      <td id=\"T_1907e_row1_col6\" class=\"data row1 col6\" >0.70</td>\n",
       "      <td id=\"T_1907e_row1_col7\" class=\"data row1 col7\" >-0.09</td>\n",
       "    </tr>\n",
       "    <tr>\n",
       "      <th id=\"T_1907e_level0_row2\" class=\"row_heading level0 row2\" >Roll</th>\n",
       "      <td id=\"T_1907e_row2_col0\" class=\"data row2 col0\" >0.05</td>\n",
       "      <td id=\"T_1907e_row2_col1\" class=\"data row2 col1\" >0.13</td>\n",
       "      <td id=\"T_1907e_row2_col2\" class=\"data row2 col2\" >1.00</td>\n",
       "      <td id=\"T_1907e_row2_col3\" class=\"data row2 col3\" >-0.48</td>\n",
       "      <td id=\"T_1907e_row2_col4\" class=\"data row2 col4\" >-0.04</td>\n",
       "      <td id=\"T_1907e_row2_col5\" class=\"data row2 col5\" >-0.12</td>\n",
       "      <td id=\"T_1907e_row2_col6\" class=\"data row2 col6\" >0.04</td>\n",
       "      <td id=\"T_1907e_row2_col7\" class=\"data row2 col7\" >0.04</td>\n",
       "    </tr>\n",
       "    <tr>\n",
       "      <th id=\"T_1907e_level0_row3\" class=\"row_heading level0 row3\" >Champion</th>\n",
       "      <td id=\"T_1907e_row3_col0\" class=\"data row3 col0\" >-0.05</td>\n",
       "      <td id=\"T_1907e_row3_col1\" class=\"data row3 col1\" >0.03</td>\n",
       "      <td id=\"T_1907e_row3_col2\" class=\"data row3 col2\" >-0.48</td>\n",
       "      <td id=\"T_1907e_row3_col3\" class=\"data row3 col3\" >1.00</td>\n",
       "      <td id=\"T_1907e_row3_col4\" class=\"data row3 col4\" >-0.00</td>\n",
       "      <td id=\"T_1907e_row3_col5\" class=\"data row3 col5\" >-0.12</td>\n",
       "      <td id=\"T_1907e_row3_col6\" class=\"data row3 col6\" >-0.02</td>\n",
       "      <td id=\"T_1907e_row3_col7\" class=\"data row3 col7\" >-0.10</td>\n",
       "    </tr>\n",
       "    <tr>\n",
       "      <th id=\"T_1907e_level0_row4\" class=\"row_heading level0 row4\" >KDA</th>\n",
       "      <td id=\"T_1907e_row4_col0\" class=\"data row4 col0\" >0.57</td>\n",
       "      <td id=\"T_1907e_row4_col1\" class=\"data row4 col1\" >-0.07</td>\n",
       "      <td id=\"T_1907e_row4_col2\" class=\"data row4 col2\" >-0.04</td>\n",
       "      <td id=\"T_1907e_row4_col3\" class=\"data row4 col3\" >-0.00</td>\n",
       "      <td id=\"T_1907e_row4_col4\" class=\"data row4 col4\" >1.00</td>\n",
       "      <td id=\"T_1907e_row4_col5\" class=\"data row4 col5\" >0.18</td>\n",
       "      <td id=\"T_1907e_row4_col6\" class=\"data row4 col6\" >-0.07</td>\n",
       "      <td id=\"T_1907e_row4_col7\" class=\"data row4 col7\" >0.11</td>\n",
       "    </tr>\n",
       "    <tr>\n",
       "      <th id=\"T_1907e_level0_row5\" class=\"row_heading level0 row5\" >KP (%)</th>\n",
       "      <td id=\"T_1907e_row5_col0\" class=\"data row5 col0\" >-0.06</td>\n",
       "      <td id=\"T_1907e_row5_col1\" class=\"data row5 col1\" >0.14</td>\n",
       "      <td id=\"T_1907e_row5_col2\" class=\"data row5 col2\" >-0.12</td>\n",
       "      <td id=\"T_1907e_row5_col3\" class=\"data row5 col3\" >-0.12</td>\n",
       "      <td id=\"T_1907e_row5_col4\" class=\"data row5 col4\" >0.18</td>\n",
       "      <td id=\"T_1907e_row5_col5\" class=\"data row5 col5\" >1.00</td>\n",
       "      <td id=\"T_1907e_row5_col6\" class=\"data row5 col6\" >-0.02</td>\n",
       "      <td id=\"T_1907e_row5_col7\" class=\"data row5 col7\" >-0.21</td>\n",
       "    </tr>\n",
       "    <tr>\n",
       "      <th id=\"T_1907e_level0_row6\" class=\"row_heading level0 row6\" >CS</th>\n",
       "      <td id=\"T_1907e_row6_col0\" class=\"data row6 col0\" >-0.17</td>\n",
       "      <td id=\"T_1907e_row6_col1\" class=\"data row6 col1\" >0.70</td>\n",
       "      <td id=\"T_1907e_row6_col2\" class=\"data row6 col2\" >0.04</td>\n",
       "      <td id=\"T_1907e_row6_col3\" class=\"data row6 col3\" >-0.02</td>\n",
       "      <td id=\"T_1907e_row6_col4\" class=\"data row6 col4\" >-0.07</td>\n",
       "      <td id=\"T_1907e_row6_col5\" class=\"data row6 col5\" >-0.02</td>\n",
       "      <td id=\"T_1907e_row6_col6\" class=\"data row6 col6\" >1.00</td>\n",
       "      <td id=\"T_1907e_row6_col7\" class=\"data row6 col7\" >-0.03</td>\n",
       "    </tr>\n",
       "    <tr>\n",
       "      <th id=\"T_1907e_level0_row7\" class=\"row_heading level0 row7\" >Average Rank</th>\n",
       "      <td id=\"T_1907e_row7_col0\" class=\"data row7 col0\" >0.00</td>\n",
       "      <td id=\"T_1907e_row7_col1\" class=\"data row7 col1\" >-0.09</td>\n",
       "      <td id=\"T_1907e_row7_col2\" class=\"data row7 col2\" >0.04</td>\n",
       "      <td id=\"T_1907e_row7_col3\" class=\"data row7 col3\" >-0.10</td>\n",
       "      <td id=\"T_1907e_row7_col4\" class=\"data row7 col4\" >0.11</td>\n",
       "      <td id=\"T_1907e_row7_col5\" class=\"data row7 col5\" >-0.21</td>\n",
       "      <td id=\"T_1907e_row7_col6\" class=\"data row7 col6\" >-0.03</td>\n",
       "      <td id=\"T_1907e_row7_col7\" class=\"data row7 col7\" >1.00</td>\n",
       "    </tr>\n",
       "  </tbody>\n",
       "</table>\n"
      ],
      "text/plain": [
       "<pandas.io.formats.style.Styler at 0x156119e0790>"
      ]
     },
     "execution_count": 315,
     "metadata": {},
     "output_type": "execute_result"
    }
   ],
   "source": [
    "corr_df = games_ml.corr()\n",
    "corr_df.style.background_gradient(cmap='bwr').set_precision(2)"
   ]
  },
  {
   "attachments": {},
   "cell_type": "markdown",
   "metadata": {},
   "source": [
    "Say how KDA very important, make sense cause less deth more kill mean prolly win, surprised time isnt as much, and also show like length direcrly relare to rtime\n",
    "\n",
    "\n",
    "### Regression "
   ]
  },
  {
   "cell_type": "code",
   "execution_count": 316,
   "metadata": {},
   "outputs": [
    {
     "name": "stdout",
     "output_type": "stream",
     "text": [
      "Linear score: 0.49110475254783714\n",
      "DT score: -0.5042735042735047\n"
     ]
    }
   ],
   "source": [
    "from sklearn.model_selection import train_test_split\n",
    "from sklearn.linear_model import LinearRegression\n",
    "\n",
    "regressor = LinearRegression()\n",
    "\n",
    "X_train, X_test, y_train, y_test = train_test_split(X, y, test_size=0.25, random_state=0)\n",
    "\n",
    "#training yay!\n",
    "regressor.fit(X_train, y_train)\n",
    "\n",
    "#howd we do\n",
    "r2score = regressor.score(X_test, y_test)\n",
    "print(\"Linear score:\", r2score)\n",
    "\n",
    "#lets try with decision tree\n",
    "from sklearn.tree import DecisionTreeRegressor\n",
    "\n",
    "regressor = DecisionTreeRegressor()\n",
    "\n",
    "#training yay!\n",
    "regressor.fit(X_train, y_train)\n",
    "\n",
    "#howd we do\n",
    "r2score = regressor.score(X_test, y_test)\n",
    "print(\"DT score:\", r2score)\n"
   ]
  },
  {
   "attachments": {},
   "cell_type": "markdown",
   "metadata": {},
   "source": [
    "idk words words words\n",
    "\n",
    "\n",
    "### Predictions\n"
   ]
  },
  {
   "cell_type": "code",
   "execution_count": 322,
   "metadata": {},
   "outputs": [
    {
     "name": "stdout",
     "output_type": "stream",
     "text": [
      "[0 0 0 1 0]\n",
      "ID\n",
      "1     Defeat\n",
      "2    Victory\n",
      "3    Victory\n",
      "4    Victory\n",
      "5     Defeat\n",
      "Name: Result, dtype: object\n"
     ]
    }
   ],
   "source": [
    "newgames_df = pd.read_csv(\"new_games.csv\", header = 0, index_col=\"ID\")\n",
    "\n",
    "#Almost forgot to get rid of results\n",
    "results = newgames_df[\"Result\"]\n",
    "to_drop = [\"Gamemode\", \"Result\"]\n",
    "newgames_df = newgames_df.drop(columns=to_drop)\n",
    "\n",
    "#label encoding\n",
    "le.fit(newgames_df[\"Champion\"])\n",
    "newgames_df[\"Champion\"] = le.transform(newgames_df[\"Champion\"])\n",
    "\n",
    "le.fit(newgames_df[\"Roll\"])\n",
    "newgames_df[\"Roll\"] = le.transform(newgames_df[\"Roll\"])\n",
    "\n",
    "le.fit(newgames_df[\"Average Rank\"])\n",
    "newgames_df[\"Average Rank\"] = le.transform(newgames_df[\"Average Rank\"])\n",
    "\n",
    "\n",
    "predictions = clf.predict(newgames_df)\n",
    "print(predictions)\n",
    "print(results)\n",
    "\n"
   ]
  },
  {
   "attachments": {},
   "cell_type": "markdown",
   "metadata": {},
   "source": [
    "Honestly not horrible, 60% success isnt bad, maybe get more old games as well to have a bigger set to predict from"
   ]
  }
 ],
 "metadata": {
  "kernelspec": {
   "display_name": "Python 3.9.12 ('base')",
   "language": "python",
   "name": "python3"
  },
  "language_info": {
   "codemirror_mode": {
    "name": "ipython",
    "version": 3
   },
   "file_extension": ".py",
   "mimetype": "text/x-python",
   "name": "python",
   "nbconvert_exporter": "python",
   "pygments_lexer": "ipython3",
   "version": "3.9.12"
  },
  "orig_nbformat": 4,
  "vscode": {
   "interpreter": {
    "hash": "5aae70c143cf896ddd534387d6c8b8945e9714cdad0a1552db2a8e0051bfadf1"
   }
  }
 },
 "nbformat": 4,
 "nbformat_minor": 2
}
