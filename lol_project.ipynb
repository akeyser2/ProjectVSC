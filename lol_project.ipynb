{
 "cells": [
  {
   "cell_type": "markdown",
   "metadata": {},
   "source": [
    "## League of Legends Performance Project\n",
    "\n",
    "Hello, and welcome to my project! For m6y project I am going to be analazing two sets of data from my League of Legends (LoL) data from the past couple of months. The two data sets that I have collected are my ranked games from this season, which spans over the past 6ish months, as well as my past 103 other games. Those 104 games include normal games, ARAM games, and anything else (mostly those two I believe). There is a pretty big chance that whoever is reading this has no knowledge of LoL, so before we get started there are a couple key words that you should know:\n",
    "* Gamemodes\n",
    "    * There are multiple gamemodes in LoL, but the ones I've recorded are Ranked, Norms, and ARAM\n",
    "    * Norms is the baseline of the game, it is also known as Draft sometimes.\n",
    "    * Ranked is the competative version of Norms, the exact same game and playstyle, but taken more seriously\n",
    "    * ARAM is usually known as the \"for fun\" mode, you don't get to choose your champion, and there are no rolls like the other gamemodes\n",
    "* Rolls\n",
    "    * Norms and Ranked have different rolls you can play which is an important attribute in my data. There are 5 rolls; Top, Jungle, Middle, ADC, and Support\n",
    "* Other terms\n",
    "    * KDA: This is your Kill-Death- assist ratio. Usually, the higher it the better you did. It is calculated with this equation: $\\frac{K+A}{D}$ \n",
    "    * CS: This is kind of complicated to explain, but it's kind of a way of tracking how well you were managing multiple things.\n",
    "    * KP: Kill Participation, this is how many of your Kills or Assists contributed to the team. $\\frac{K+A}{Team Kills}$\n",
    "    * Average Rank: This is a way of determining the average skill of the lobby. The rank goes from Bronze->Silver->Gold->Plat->etc. As well as from 4 being the lowest to 1 being the highest of that specific rank\n",
    "    \n",
    "With all of that, we can start looking at the data!"
   ]
  },
  {
   "cell_type": "markdown",
   "metadata": {},
   "source": [
    "### The Data\n",
    "As I mentioned, I have two data sets that I'll be analyzing. One comprising of all my ranked games this year, and another of my past 103 games. I got this data from the website op.gg, but had to input the data manually into excel since there was no way of getting it as a csv or json. I think that there will be some interesting information that we can find from these datasets as I usually goof off a lot in norms with my friends, but take ranked more seriously and play the champs that I'm best at.  \n",
    "Let's go through a couple things I want to look at with this data:\n",
    "* How well I play in ranked vs. norms\n",
    "* What champs I play the best and worst with (I can also comparte this to how much I've played the champ)\n",
    "* How well I play by myself vs. with my friends (this can be determined by the avg rank because one of the friends I play with is a lot higher ranked than the rest of us)\n",
    "* How my performance differs between which roll I play (this might be skewed because I play Jg and Mid the most but we will see)\n",
    "* And finally I would love to try and predict how well I would play on a given champion in a given roll, and then play a game and see how accurate it was.\n",
    "    * There is no way that it will be accurate since there are so many variables that go into a single game, but I think it would be really interesting to try\n",
    "    "
   ]
  },
  {
   "cell_type": "code",
   "execution_count": 129,
   "metadata": {},
   "outputs": [],
   "source": [
    "import numpy as np\n",
    "import pandas as pd\n",
    "import matplotlib.pyplot as plt\n",
    "import math\n",
    "\n",
    "ranked_df = pd.read_csv(\"opgg_ranked.csv\", header = 0)\n",
    "games_df = pd.read_csv(\"opgg_lasthundred.csv\", header = 0)"
   ]
  },
  {
   "attachments": {},
   "cell_type": "markdown",
   "metadata": {},
   "source": [
    "### Cleaning\n",
    "Since I inputed all of this data manually, there is very little cleaning that we will have to do. However, I made the ranked dataset a month or so before my other data, so there are a couple inconsistancies we have to fix:\n",
    "1. I recorded one of the champions in the ranked dataset as \"Mundo\", but \"Dr. Mundo\" in the other set, so I'll change all of them to Dr. for consistancy.\n",
    "2. In the outcome attribute, I'll change \"Loss\" in the ranked set to \"Defeat\", as it is what I used in the new one because that is the official name.\n",
    "3. In the ranked dataset, I labeled \"Roll\" as N/A for ARAM games, but I will replace those with empty values.  \n",
    "    * (np.NaN doesn't work with string values so ask about this)\n",
    "4. Lastly, I'm going to seperate the ARAM and Remake games that I played from the dataframe, as they will mess up the data.\n",
    "\n",
    "Once those are done, the data should be all set for usage!"
   ]
  },
  {
   "cell_type": "code",
   "execution_count": 130,
   "metadata": {},
   "outputs": [],
   "source": [
    "#turns mundo into Dr.\n",
    "for value in ranked_df[\"Champion\"]:\n",
    "    if \"mundo\" in value.lower():\n",
    "        ranked_df.replace(value, \"Dr. Mundo\", inplace=True)\n",
    "#fixes result name\n",
    "for value in ranked_df[\"Result\"]:\n",
    "    if \"loss\" in value.lower():\n",
    "        ranked_df.replace(value, \"Defeat\", inplace=True)\n",
    "#removes N/A\n",
    "games_df.replace(\"N/A\", np.NaN, inplace=True)\n",
    "#makes an aram df in case i want to use it later\n",
    "aram_df = games_df.loc[games_df[\"Gamemode\"] == \"ARAM\"]\n",
    "#although only 2 remakes, it could mess up the data\n",
    "remove_remakes = games_df.loc[games_df[\"Result\"] == \"Remake\"]\n",
    "#removes both from games_df\n",
    "games_df = games_df.drop(aram_df.index)\n",
    "games_df = games_df.drop(remove_remakes.index)\n",
    "\n",
    "\n"
   ]
  },
  {
   "attachments": {},
   "cell_type": "markdown",
   "metadata": {},
   "source": [
    "While doing this project, I found a great dataset to use that shows the average stats of every champ, and even better it is set to be specifically in my skill range. I got this data from https://www.metasrc.com/5v5/na/12.20/stats?ranks=silver and used a html converter to turn it into a .csv.  \n",
    "\n",
    "1. One problem arose though, the champion attribute has an issue where the name is coppied on itself, so instead of \"Akali\", it shows \"AkaliAkali\". And since this was the attribute I planned on merging my tables on, I'm going to have to fix that. Luckily, I have an idea.\n",
    "    * Have a for loop that goes through all the champs\n",
    "    * Get the length of the string that is their name\n",
    "    * Set the length of the string to half that size.  \n",
    "\n",
    "        Hopefully this works, and gives me a good dataset to work with.  \n",
    "\n",
    "\n",
    "2. Another problem is some champions show up twice, this is because some champs are played in multiple rolls. Since I do not really care about their lower played rolls, I will just be taking the highest play percent and drop the extra ones.  \n",
    "3. One more thing I'm going to do is remove a couple columns that I wont be using.  \n",
    "\n",
    "For the last part of cleaning, I am going to merge this dataframe with both my ranked df and my norms df."
   ]
  },
  {
   "cell_type": "code",
   "execution_count": 131,
   "metadata": {},
   "outputs": [
    {
     "name": "stdout",
     "output_type": "stream",
     "text": [
      "    Champion        Tier   Win %  Avg KDA of Champ\n",
      "0     Aatrox    God / S+  48.83%              1.85\n",
      "1       Ahri  Strong / S  50.17%              2.37\n",
      "2      Akali    God / S+  47.20%              2.31\n",
      "4     Akshan    Fair / B  48.15%              2.08\n",
      "6    Alistar    Fair / B  49.19%              2.42\n",
      "..       ...         ...     ...               ...\n",
      "235     Zeri     Bad / D  40.19%              1.98\n",
      "236    Ziggs    Good / A  51.54%              2.48\n",
      "238   Zilean    Good / A  50.88%              3.18\n",
      "240      Zoe    Fair / B  47.46%              2.42\n",
      "242     Zyra    Good / A  52.14%              2.22\n",
      "\n",
      "[155 rows x 4 columns]\n",
      "    ID Gamemode   Result  Length (min)    Roll     Champion    KDA  KP (%)  \\\n",
      "0    0   Ranked  Victory     33.483333  Jungle       Lillia   5.00      48   \n",
      "1    3   Ranked   Defeat     16.183333  Jungle       Lillia   0.33      14   \n",
      "2    4   Ranked  Victory     25.883333  Jungle       Lillia  24.00      57   \n",
      "3    7   Ranked   Defeat     24.000000  Jungle       Lillia   1.33      42   \n",
      "4   10   Ranked   Defeat     38.116667  Jungle       Lillia   4.00      63   \n",
      "5   11   Ranked  Victory     31.900000  Jungle       Lillia   5.25      57   \n",
      "6   14   Ranked   Defeat     20.816667  Jungle       Lillia   0.80      40   \n",
      "7   16   Ranked   Defeat     44.300000  Jungle       Lillia   1.78      38   \n",
      "8    1   Ranked  Victory     22.950000  Jungle  Mordekaiser   4.33      33   \n",
      "9    2   Ranked   Defeat     16.133333  Jungle  Mordekaiser   1.00      80   \n",
      "10   6   Ranked  Victory     22.133333  Jungle  Mordekaiser  16.00      53   \n",
      "11   8   Ranked  Victory     29.450000  Jungle  Mordekaiser   3.75      58   \n",
      "12  12   Ranked   Defeat     28.933333  Jungle  Mordekaiser   2.50      75   \n",
      "13  13   Ranked  Victory     23.583333  Jungle  Mordekaiser   5.67      45   \n",
      "14  15   Ranked  Victory     30.100000  Jungle  Mordekaiser   3.00      41   \n",
      "15  17   Ranked  Victory     39.450000  Jungle  Mordekaiser   3.60      38   \n",
      "16   5   Ranked   Defeat     34.983333  Jungle    Dr. Mundo   2.17      54   \n",
      "17  18   Ranked  Victory     27.366667  Jungle    Dr. Mundo   2.67      20   \n",
      "18   9   Ranked   Defeat     38.150000  Jungle           Vi   2.86      49   \n",
      "\n",
      "     CS Avgerage Rank        Tier   Win %  Avg KDA of Champ  \n",
      "0   191      Bronze 1    Good / A  50.00%              2.63  \n",
      "1    74      Bronze 1    Good / A  50.00%              2.63  \n",
      "2   174      Bronze 2    Good / A  50.00%              2.63  \n",
      "3    97      Silver 3    Good / A  50.00%              2.63  \n",
      "4   244      Bronze 1    Good / A  50.00%              2.63  \n",
      "5   187      Silver 3    Good / A  50.00%              2.63  \n",
      "6   100      Silver 4    Good / A  50.00%              2.63  \n",
      "7   209      Silver 4    Good / A  50.00%              2.63  \n",
      "8   125      Bronze 1  Strong / S  51.53%              1.95  \n",
      "9    74      Silver 3  Strong / S  51.53%              1.95  \n",
      "10  123      Silver 4  Strong / S  51.53%              1.95  \n",
      "11  161      Silver 4  Strong / S  51.53%              1.95  \n",
      "12  138      Silver 2  Strong / S  51.53%              1.95  \n",
      "13  126      Bronze 1  Strong / S  51.53%              1.95  \n",
      "14  125      Silver 4  Strong / S  51.53%              1.95  \n",
      "15  195      Silver 4  Strong / S  51.53%              1.95  \n",
      "16  178      Silver 4    Good / A  51.32%              2.17  \n",
      "17  155      Silver 3    Good / A  51.32%              2.17  \n",
      "18  217      Bronze 1    Good / A  51.23%              2.41  \n"
     ]
    }
   ],
   "source": [
    "stats_df = pd.read_csv(\"champ_stats.csv\", header = 0)\n",
    " \n",
    "#Fixes the names\n",
    "for name in stats_df[\"Champion\"]:\n",
    "    length = len(name)\n",
    "    split_index = length // 2\n",
    "    #sets val equal to first half\n",
    "    stats_df.replace(name, name[:split_index], inplace=True)\n",
    " \n",
    "#removes the \"%\" from the values and turns them into ints\n",
    "for stat in stats_df[\"Role %\"]:\n",
    "    #sets val equal to first half\n",
    "    stats_df.replace(stat, float(stat[:5]), inplace=True)\n",
    " \n",
    "#removes all the champs with a roll % less than 50\n",
    "to_drop = stats_df.loc[stats_df[\"Role %\"] < 50]\n",
    "stats_df = stats_df.drop(to_drop.index)\n",
    " \n",
    "#drops unnecessary columns\n",
    "colums_td = [\"Score\", \"Trend\", \"Pick %\", \"Ban %\"]\n",
    "stats_df = stats_df.drop(columns=colums_td)\n",
    "#for some reason these wouldnt drop when I put them in columns_td\n",
    "stats_df = stats_df.drop(columns=\"Role\")\n",
    "stats_df = stats_df.drop(columns=\"Role %\")\n",
    " \n",
    "stats_df.rename(columns={'KDA': 'Avg KDA of Champ'}, inplace=True)\n",
    "print(stats_df)\n",
    "\n",
    "\n",
    "# Merging\n",
    "ranked_df = ranked_df.merge(stats_df, on=\"Champion\")\n",
    "print(ranked_df)\n",
    "games_df = games_df.merge(stats_df, on=\"Champion\")\n",
    "\n"
   ]
  },
  {
   "cell_type": "markdown",
   "metadata": {},
   "source": [
    "### Graphs\n",
    "* I'm going to make 2 pi charts for what percent I play what roll, as well as what Champion. I'm going to make the same for ranked as well."
   ]
  },
  {
   "cell_type": "code",
   "execution_count": 132,
   "metadata": {},
   "outputs": [],
   "source": [
    "# Still not working, come back as last thing\n",
    "\n",
    "champs_graph = grouped_by_champ\n",
    "\n",
    "# series = champs_graph.apply()\n",
    "\n",
    "#print(games_df)\n",
    "# for key in champs_graph:\n",
    "#     #sets val equal to first half\n",
    "#     if \n",
    "#     champs_graph.replace(key, \"Other\", inplace=True)\n",
    " \n",
    "# #removes all the champs with a roll % less than 50\n",
    "# to_drop = stats_df.loc[stats_df[\"Role %\"] < 50]\n",
    "# stats_df = stats_df.drop(to_drop.index)\n",
    "\n",
    "# reset figure, make it square\n",
    "#plt.figure(figsize=(8,8))\n",
    "# create the bar chart (with pcts)\n",
    "#plt.pie(grouped_by_champ.size(), labels=grouped_by_champ.size(), autopct=\"%1.1f%%\")\n",
    "#plt.show()"
   ]
  },
  {
   "cell_type": "markdown",
   "metadata": {},
   "source": [
    "After seeing this atrocity I have decided not to make a graph based on the champs I've played. I can still do Rolls though since there are only 5.  \n",
    "\n",
    "I can probably still do the champion graph for ranked though, because I only played 4 champions in ranked I believe. Let's try that out first"
   ]
  },
  {
   "cell_type": "code",
   "execution_count": 133,
   "metadata": {},
   "outputs": [
    {
     "name": "stdout",
     "output_type": "stream",
     "text": [
      "Champion\n",
      "Dr. Mundo      2\n",
      "Lillia         8\n",
      "Mordekaiser    8\n",
      "Vi             1\n",
      "dtype: int64\n"
     ]
    },
    {
     "data": {
      "image/png": "[encoded data removed]",
      "text/plain": [
       "<Figure size 576x576 with 1 Axes>"
      ]
     },
     "metadata": {},
     "output_type": "display_data"
    }
   ],
   "source": [
    "grouped_by_champ = ranked_df.groupby(\"Champion\")\n",
    "\n",
    "print(grouped_by_champ.size())\n",
    "\n",
    "plt.figure(figsize=(8,8))\n",
    "\n",
    "xs = [\"Dr. Mundo\", \"Lillia\", \"Mordekaiser\", \"Vi\"]\n",
    "\n",
    "plt.pie(grouped_by_champ.size(), labels=xs, autopct=\"%1.1f%%\")\n",
    "plt.show()"
   ]
  },
  {
   "cell_type": "markdown",
   "metadata": {},
   "source": [
    "Lillia and Mord as my top champs. Not suprised since this data set is so small, I know which ones I played most off the top of my head.\n",
    "\n",
    "I could also make a bar graph with my average KDA with these champs for ranked since there arn't too many to work with. I am guessing that Mord and Lillia will still be the most since I am more experienced with them."
   ]
  },
  {
   "cell_type": "code",
   "execution_count": 134,
   "metadata": {},
   "outputs": [
    {
     "data": {
      "image/png": "[encoded data removed]",
      "text/plain": [
       "<Figure size 432x288 with 1 Axes>"
      ]
     },
     "metadata": {
      "needs_background": "light"
     },
     "output_type": "display_data"
    }
   ],
   "source": [
    "mundo_df = grouped_by_champ.get_group(\"Dr. Mundo\")\n",
    "lil_df = grouped_by_champ.get_group(\"Lillia\")\n",
    "mord_df = grouped_by_champ.get_group(\"Mordekaiser\")\n",
    "vi_df = grouped_by_champ.get_group(\"Vi\")\n",
    "\n",
    "# reset figure\n",
    "plt.figure()\n",
    "\n",
    "ys = [mundo_df[\"KDA\"].mean(), lil_df[\"KDA\"].mean(), mord_df[\"KDA\"].mean(), vi_df[\"KDA\"].mean()]\n",
    "\n",
    "xrng = np.arange(len(xs))\n",
    "yrng = np.arange(0, max(ys)+1, 1)\n",
    "\n",
    "plt.bar(xrng, ys, 0.45, align=\"center\") \n",
    "# note: default alignment is center\n",
    "\n",
    "plt.xlabel(\"Champions\")\n",
    "plt.ylabel(\"Average KDA\")\n",
    "plt.title(\"Avg KDA per Champion in Ranked\")\n",
    "\n",
    "plt.xticks(xrng, xs)\n",
    "plt.yticks(yrng)\n",
    "# turn on the background grid\n",
    "plt.grid(True)\n",
    "plt.show()"
   ]
  },
  {
   "cell_type": "markdown",
   "metadata": {},
   "source": [
    "It seems that I was correct in my guess! I am going to move onto rolls now, but I'm not going to do one for ranked since it would be 100% jungle and that would not make for very interesting data.  \n",
    "\n",
    "I'm also going to make a Bar Graph along with the Pi Chart again since we have a lot more data with my normal game set, and I honestly have no idea what roll will come out on top.\n"
   ]
  },
  {
   "cell_type": "code",
   "execution_count": 135,
   "metadata": {},
   "outputs": [
    {
     "name": "stdout",
     "output_type": "stream",
     "text": [
      "Roll\n",
      "ADC         7\n",
      "Jungle     28\n",
      "Middle     30\n",
      "Support     5\n",
      "Top        18\n",
      "dtype: int64\n"
     ]
    },
    {
     "data": {
      "image/png": "[encoded data removed]",
      "text/plain": [
       "<Figure size 576x576 with 1 Axes>"
      ]
     },
     "metadata": {},
     "output_type": "display_data"
    },
    {
     "data": {
      "image/png": "[encoded data removed]",
      "text/plain": [
       "<Figure size 432x288 with 1 Axes>"
      ]
     },
     "metadata": {
      "needs_background": "light"
     },
     "output_type": "display_data"
    }
   ],
   "source": [
    "\n",
    "#Pi Chart\n",
    "grouped_by_roll = games_df.groupby(\"Roll\")\n",
    "\n",
    "print(grouped_by_roll.size())\n",
    "\n",
    "plt.figure(figsize=(8,8))\n",
    "\n",
    "xs = [\"ADC\", \"Jungle\", \"Middle\", \"Support\", \"Top\"]\n",
    "\n",
    "plt.pie(grouped_by_roll.size(), labels=xs, autopct=\"%1.1f%%\")\n",
    "plt.show()\n",
    "\n",
    "\n",
    "#Bar Chart\n",
    "adc_df = grouped_by_roll.get_group(\"ADC\")\n",
    "jng_df = grouped_by_roll.get_group(\"Jungle\")\n",
    "mid_df = grouped_by_roll.get_group(\"Middle\")\n",
    "sup_df = grouped_by_roll.get_group(\"Support\")\n",
    "top_df = grouped_by_roll.get_group(\"Top\")\n",
    "\n",
    "# reset figure\n",
    "plt.figure()\n",
    "\n",
    "ys = [adc_df[\"KDA\"].mean(), jng_df[\"KDA\"].mean(), mid_df[\"KDA\"].mean(), sup_df[\"KDA\"].mean(), top_df[\"KDA\"].mean()]\n",
    "\n",
    "\n",
    "xrng = np.arange(len(xs))\n",
    "yrng = np.arange(0, max(ys)+1, 1)\n",
    "\n",
    "plt.bar(xrng, ys, 0.45, align=\"center\") \n",
    "# note: default alignment is center\n",
    "\n",
    "plt.xlabel(\"Rolls\")\n",
    "plt.ylabel(\"Average KDA\")\n",
    "plt.title(\"Avg KDA per Roll in Norms\")\n",
    "\n",
    "plt.xticks(xrng, xs)\n",
    "plt.yticks(yrng)\n",
    "# turn on the background grid\n",
    "plt.grid(True)\n",
    "plt.show()"
   ]
  },
  {
   "cell_type": "markdown",
   "metadata": {},
   "source": [
    "This data was really surprising to me. All of the rolls have an extremely similar KDA, although it is kind of sad to see that my most played rolls have the lowest average...  \n",
    "\n",
    "If I were to have gotten this data from two months ago, I think that the data would have been skewed especially towards jungle, but after playing Akali a lot (who is played top and mid), it increased those almost up to my jungle play rate.  \n",
    "\n",
    "Later on I would like to do this sorted by some ranks as well. Possibly Gold-Plat(playing with friends) vs. Bronze-Silver(playing alone) to see which I play better.  \n"
   ]
  },
  {
   "cell_type": "code",
   "execution_count": 136,
   "metadata": {},
   "outputs": [
    {
     "data": {
      "image/png": "[encoded data removed]",
      "text/plain": [
       "<Figure size 432x288 with 1 Axes>"
      ]
     },
     "metadata": {
      "needs_background": "light"
     },
     "output_type": "display_data"
    }
   ],
   "source": [
    "plt.figure()\n",
    "\n",
    "xs = [\"Norms\", \"Ranked\"]\n",
    "plt.boxplot([games_df[\"Length (min)\"], ranked_df[\"Length (min)\"]])\n",
    "\n",
    "\n",
    "plt.ylabel(\"Length (min)\")\n",
    "plt.title(\"Length of Norms vs. Ranked games\")\n",
    "\n",
    "plt.show()"
   ]
  },
  {
   "attachments": {},
   "cell_type": "markdown",
   "metadata": {},
   "source": [
    "# Hypothysis Testing\n",
    "1. For the first test, I will be running a hypothysis test to see if when I play a game with Akali, if I will get a KDA above 3. I am doing this to see if the champ I played most in these last 100 games or so actually payed off and made me pretty good at the champion or not.\n",
    "\n",
    "Akali KDA Test\n",
    "* H0 - $M_{kda} <= 3$\n",
    "* H1 - $M_{kda} > 3$\n",
    "* Confidence $= 98$%\n",
    "* $df = N_{akali} - 1 = 30$\n",
    "* $t_{critical} = 2.457$"
   ]
  },
  {
   "cell_type": "code",
   "execution_count": 137,
   "metadata": {},
   "outputs": [
    {
     "name": "stdout",
     "output_type": "stream",
     "text": [
      "t-computed = 2.066722324107354\n",
      "\n",
      "Average KDA of Akalis:  2.310000000000001\n"
     ]
    }
   ],
   "source": [
    "grouped_by_champ = games_df.groupby(\"Champion\")\n",
    "akali_df = grouped_by_champ.get_group(\"Akali\")\n",
    "\n",
    "akali_kda = akali_df[\"KDA\"]\n",
    "\n",
    "t = (akali_kda.mean() - 3)/(akali_kda.std()/math.sqrt(len(akali_kda)))\n",
    "print(\"t-computed =\", t)\n",
    "\n",
    "print(\"\\nAverage KDA of Akalis: \", akali_df[\"Avg KDA of Champ\"].mean())"
   ]
  },
  {
   "attachments": {},
   "cell_type": "markdown",
   "metadata": {},
   "source": [
    "t-computed is less than t-critical, therefor reject H0. I also printed out another point of data, that the average KDA of Akali players in my rank is 2.3. So not only does my hypothysis test prove that if I play Akali, I will most likely get a KDA above 3, but also that it is significantly higher than the average person in my rank.\n",
    "\n",
    "2. Next is a bit weirder, but I think it should be interesting. The friends that I play with the most are better at the game than me, and because of that, the average rank of the games go up. Surprisingly, I play about the same weathr I'm playing with them or not, but that is not the point. What I want to test here is if I am playing with my friends, will the game be longer than if I were playing by myself. There is an option in the game to \"FF\" or forfeit, which ends the game early. However, whenever my friends and I play we rarely do that because we are having fun no matter how winnable the game it. \n",
    "* My thought is that if I'm playing with my friends, the length of the game will be longer than if I were playing alone\n",
    "\n",
    "\n",
    "Jungle CS Test\n",
    "* H0 - $M_{friends} <= M_{alone}$\n",
    "* H1 - $M_{frieds} > M_{alone}$\n",
    "* Confidence $= 99$%\n",
    "* $df = N_{friends} + N_{alone} - 2 = 86$\n",
    "* $t_{critical} = 2.660$"
   ]
  },
  {
   "cell_type": "code",
   "execution_count": 161,
   "metadata": {},
   "outputs": [
    {
     "name": "stdout",
     "output_type": "stream",
     "text": [
      "t-calculated = -2.302374480299633\n"
     ]
    }
   ],
   "source": [
    "from scipy import stats\n",
    "\n",
    "#this makes a new df to clean that turns the ranks into only 2 different values\n",
    "avgranks_df = games_df\n",
    "for rank in avgranks_df[\"Average Rank\"]:\n",
    "    if \"Gold\" in rank:\n",
    "        avgranks_df.replace(rank, \"Higher\", inplace=True)\n",
    "    if \"Plat\" in rank:\n",
    "        avgranks_df.replace(rank, \"Higher\", inplace=True)\n",
    "    if \"Bronze\" in rank:\n",
    "        avgranks_df.replace(rank, \"MyElo\", inplace=True)\n",
    "    if \"Silver\" in rank:\n",
    "        avgranks_df.replace(rank, \"MyElo\", inplace=True)\n",
    "\n",
    "#this will now split the df into 2, one with a higher avg rank, and one with about the same\n",
    "grouped_by_rank = avgranks_df.groupby(\"Average Rank\")\n",
    "higher_df = grouped_by_rank.get_group(\"Higher\")\n",
    "myelo_df = grouped_by_rank.get_group(\"MyElo\")\n",
    "\n",
    "\n",
    "\n",
    "\n",
    "t, p = stats.ttest_ind(higher_df[\"Length (min)\"], myelo_df[\"Length (min)\"])\n",
    "print(\"t-calculated =\", t)\n"
   ]
  },
  {
   "cell_type": "code",
   "execution_count": null,
   "metadata": {},
   "outputs": [],
   "source": []
  }
 ],
 "metadata": {
  "kernelspec": {
   "display_name": "Python 3.9.12 ('base')",
   "language": "python",
   "name": "python3"
  },
  "language_info": {
   "codemirror_mode": {
    "name": "ipython",
    "version": 3
   },
   "file_extension": ".py",
   "mimetype": "text/x-python",
   "name": "python",
   "nbconvert_exporter": "python",
   "pygments_lexer": "ipython3",
   "version": "3.9.12"
  },
  "orig_nbformat": 4,
  "vscode": {
   "interpreter": {
    "hash": "5aae70c143cf896ddd534387d6c8b8945e9714cdad0a1552db2a8e0051bfadf1"
   }
  }
 },
 "nbformat": 4,
 "nbformat_minor": 2
}
